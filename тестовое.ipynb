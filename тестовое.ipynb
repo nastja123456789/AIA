{
  "nbformat": 4,
  "nbformat_minor": 0,
  "metadata": {
    "colab": {
      "provenance": [],
      "authorship_tag": "ABX9TyNxv6Xx1pckLnQmv0wusu/7",
      "include_colab_link": true
    },
    "kernelspec": {
      "name": "python3",
      "display_name": "Python 3"
    },
    "language_info": {
      "name": "python"
    }
  },
  "cells": [
    {
      "cell_type": "markdown",
      "metadata": {
        "id": "view-in-github",
        "colab_type": "text"
      },
      "source": [
        "<a href=\"https://colab.research.google.com/github/nastja123456789/AIA/blob/main/%D1%82%D0%B5%D1%81%D1%82%D0%BE%D0%B2%D0%BE%D0%B5.ipynb\" target=\"_parent\"><img src=\"https://colab.research.google.com/assets/colab-badge.svg\" alt=\"Open In Colab\"/></a>"
      ]
    },
    {
      "cell_type": "code",
      "execution_count": null,
      "metadata": {
        "id": "E0CrV0FuJBci"
      },
      "outputs": [],
      "source": [
        "import openpyxl\n",
        "# Чтение данных из файла\n",
        "workbook = openpyxl.load_workbook('Задание VBA Fluid-Line V1.0 .xlsx')\n",
        "sheet = workbook['Исходные данные']\n",
        "\n",
        "# Обработка данных\n",
        "data = {}\n",
        "for row in sheet.iter_rows(min_row=2, values_only=True):\n",
        "    orderNumber = row[0]\n",
        "    invoice = row[1]\n",
        "    if orderNumber not in data:\n",
        "        data[orderNumber] = []\n",
        "    data[orderNumber].append(invoice)\n",
        "\n",
        "# Запись результатов на тот же лист\n",
        "resultSheet = workbook.create_sheet(title='Результат')\n",
        "\n",
        "# Запись результатов в тот же файл\n",
        "for orderNumber, invoices in data.items():\n",
        "    resultSheet.append([orderNumber] + invoices)\n",
        "\n",
        "# Сохранение результата в тот же файл\n",
        "workbook.save('Задание VBA Fluid-Line V1.0 .xlsx')\n",
        "workbook.close()\n",
        "\n",
        "print('Результат сохранен в файле Задание VBA Fluid-Line V1.0 .xlsx')"
      ]
    }
  ]
}